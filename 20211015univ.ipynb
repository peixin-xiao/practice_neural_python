{
 "cells": [
  {
   "cell_type": "code",
   "execution_count": 14,
   "metadata": {
    "scrolled": true
   },
   "outputs": [],
   "source": [
    "'''\n",
    "3.3.2 単純パーセプトロン\n",
    "'''\n",
    "\n",
    "import numpy as np\n",
    "import matplotlib.pyplot as plt\n",
    "\n",
    "\n",
    "class SimplePerceptron(object):\n",
    "    '''\n",
    "    単純パーセプトロン\n",
    "    '''\n",
    "    def __init__(self, input_dim):\n",
    "        self.input_dim = input_dim\n",
    "        self.w = np.random.normal(size=(input_dim,))\n",
    "        self.b = 0.\n",
    "\n",
    "    def forward(self, x):\n",
    "        y = step(np.matmul(self.w, x) + self.b)\n",
    "        return y\n",
    "\n",
    "    def compute_deltas(self, x, t):\n",
    "        y = self.forward(x)\n",
    "        delta = y - t\n",
    "        dw = delta * x\n",
    "        db = delta\n",
    "\n",
    "        return dw, db\n",
    "\n"
   ]
  },
  {
   "cell_type": "code",
   "execution_count": 15,
   "metadata": {},
   "outputs": [],
   "source": [
    "class Simpleperceptron(object):\n",
    "    def forward(self,x):\n",
    "        y=step(np.matmul(self.w, x)+self.b)\n",
    "        return y\n",
    "def step(x):\n",
    "    return 1*(x>0)"
   ]
  },
  {
   "cell_type": "code",
   "execution_count": 21,
   "metadata": {},
   "outputs": [
    {
     "data": {
      "image/png": "[encoded data removed]",
      "text/plain": [
       "<Figure size 432x288 with 1 Axes>"
      ]
     },
     "metadata": {
      "needs_background": "light"
     },
     "output_type": "display_data"
    }
   ],
   "source": [
    "\n",
    "np.random.seed(123)  # 乱数シード\n",
    "\n",
    "'''\n",
    "1. データの準備\n",
    "'''\n",
    "d = 2   # 入力次元\n",
    "N = 20  # 全データ数\n",
    "\n",
    "mean = 5\n",
    "\n",
    "x1 = np.random.randn(N//2, d) + np.array([0, 0])\n",
    "x2 = np.random.randn(N//2, d) + np.array([mean, mean])\n",
    "x3 = np.random.randn(N//2, d) + np.array([0, 0])\n",
    "x4 = np.random.randn(N//2, d) + np.array([mean, mean])\n",
    "\n",
    "t1 = np.zeros(N//2)\n",
    "t2 = np.ones(N//2)\n",
    "\n",
    "x = np.concatenate((x1, x2), axis=0)  # 入力データ\n",
    "t = np.concatenate((t1, t2))          # 出力データ\n",
    "\n",
    "plt.scatter(x1,x3)\n",
    "plt.scatter(x2,x4)\n",
    "plt.title(\"Preparation data\",fontsize=25)\n",
    "#plt.xlabel(\"x\",fontsize=18)\n",
    "#plt.ylabel(\"1+sinx\",fontsize=18)\n",
    "plt.xlim(-4,8)\n",
    "plt.ylim(-6,12)\n",
    "plt.show()"
   ]
  },
  {
   "cell_type": "code",
   "execution_count": 46,
   "metadata": {},
   "outputs": [],
   "source": [
    "   '''\n",
    "    2. モデルの構築\n",
    "    '''\n",
    "model = SimplePerceptron(input_dim=d)"
   ]
  },
  {
   "cell_type": "code",
   "execution_count": 47,
   "metadata": {},
   "outputs": [],
   "source": [
    " \n",
    "    '''\n",
    "    3. モデルの学習\n",
    "    '''\n",
    "def compute_loss(dw, db):\n",
    "        return all(dw == 0) * (db == 0)\n",
    "\n",
    "def train_step(x, t):\n",
    "        dw, db = model.compute_deltas(x, t)\n",
    "        loss = compute_loss(dw, db)\n",
    "        model.w = model.w - dw\n",
    "        model.b = model.b - db\n",
    "\n",
    "        return loss\n",
    "\n",
    "while True:\n",
    "        classified = True\n",
    "        for i in range(N):\n",
    "            loss = train_step(x[i], t[i])\n",
    "            classified *= loss\n",
    "        if classified:\n",
    "            break"
   ]
  },
  {
   "cell_type": "code",
   "execution_count": 48,
   "metadata": {},
   "outputs": [
    {
     "name": "stdout",
     "output_type": "stream",
     "text": [
      "w: [2.22951939 2.96727454]\n",
      "b: -13.0\n",
      "(0, 0) => 0\n",
      "(5, 5) => 1\n"
     ]
    }
   ],
   "source": [
    "  '''\n",
    "    4. モデルの評価\n",
    "    '''\n",
    "print('w:', model.w) \n",
    "print('b:', model.b)  \n",
    "\n",
    "print('(0, 0) =>', model.forward([0, 0]))  \n",
    "print('(5, 5) =>', model.forward([5, 5]))  "
   ]
  },
  {
   "cell_type": "code",
   "execution_count": 24,
   "metadata": {},
   "outputs": [
    {
     "data": {
      "image/png": "[encoded data removed]",
      "text/plain": [
       "<Figure size 432x288 with 1 Axes>"
      ]
     },
     "metadata": {
      "needs_background": "light"
     },
     "output_type": "display_data"
    }
   ],
   "source": [
    "d = 2   # 入力次元\n",
    "N = 20  # 全データ数\n",
    "\n",
    "mean = 5\n",
    "\n",
    "x1 = np.random.randn(N//2, d) + np.array([0, 0])\n",
    "x2 = np.random.randn(N//2, d) + np.array([mean, mean])\n",
    "x3 = np.random.randn(N//2, d) + np.array([0, 0])\n",
    "x4 = np.random.randn(N//2, d) + np.array([mean, mean])\n",
    "\n",
    "t1 = np.zeros(N//2)\n",
    "t2 = np.ones(N//2)\n",
    "\n",
    "x = np.concatenate((x1, x2), axis=0)  # 入力データ\n",
    "t = np.concatenate((t1, t2))          # 出力データ\n",
    "a = np.linspace(-4,8)\n",
    "b = -2.22951939/2.96727454*a + 13/2.96727454 \n",
    "plt.scatter(x1,x3)\n",
    "plt.scatter(x2,x4)\n",
    "plt.plot(a,b)\n",
    "plt.title(\"Classification data\",fontsize=25)\n",
    "#plt.xlabel(\"x\",fontsize=18)\n",
    "#plt.ylabel(\"1+sinx\",fontsize=18)\n",
    "plt.xlim(-4,8)\n",
    "plt.ylim(-6,12)\n",
    "plt.show()"
   ]
  },
  {
   "cell_type": "code",
   "execution_count": 2,
   "metadata": {},
   "outputs": [],
   "source": [
    "import pandas as pd\n",
    "import numpy as np\n",
    "import matplotlib\n",
    "import matplotlib.pyplot as plt\n",
    "\n",
    "signal = pd.DataFrame(\n",
    "    [\n",
    "        [0,0],\n",
    "        [1,0],\n",
    "        [0,1],\n",
    "        [1,1]\n",
    "    ],\n",
    "    columns = [\"x1\", \"x2\"]\n",
    ")"
   ]
  },
  {
   "cell_type": "code",
   "execution_count": 3,
   "metadata": {},
   "outputs": [
    {
     "data": {
      "text/html": [
       "<div>\n",
       "<style scoped>\n",
       "    .dataframe tbody tr th:only-of-type {\n",
       "        vertical-align: middle;\n",
       "    }\n",
       "\n",
       "    .dataframe tbody tr th {\n",
       "        vertical-align: top;\n",
       "    }\n",
       "\n",
       "    .dataframe thead th {\n",
       "        text-align: right;\n",
       "    }\n",
       "</style>\n",
       "<table border=\"1\" class=\"dataframe\">\n",
       "  <thead>\n",
       "    <tr style=\"text-align: right;\">\n",
       "      <th></th>\n",
       "      <th>x1</th>\n",
       "      <th>x2</th>\n",
       "      <th>y</th>\n",
       "    </tr>\n",
       "  </thead>\n",
       "  <tbody>\n",
       "    <tr>\n",
       "      <th>0</th>\n",
       "      <td>0</td>\n",
       "      <td>0</td>\n",
       "      <td>0</td>\n",
       "    </tr>\n",
       "    <tr>\n",
       "      <th>1</th>\n",
       "      <td>1</td>\n",
       "      <td>0</td>\n",
       "      <td>0</td>\n",
       "    </tr>\n",
       "    <tr>\n",
       "      <th>2</th>\n",
       "      <td>0</td>\n",
       "      <td>1</td>\n",
       "      <td>0</td>\n",
       "    </tr>\n",
       "    <tr>\n",
       "      <th>3</th>\n",
       "      <td>1</td>\n",
       "      <td>1</td>\n",
       "      <td>1</td>\n",
       "    </tr>\n",
       "  </tbody>\n",
       "</table>\n",
       "</div>"
      ],
      "text/plain": [
       "   x1  x2  y\n",
       "0   0   0  0\n",
       "1   1   0  0\n",
       "2   0   1  0\n",
       "3   1   1  1"
      ]
     },
     "execution_count": 3,
     "metadata": {},
     "output_type": "execute_result"
    }
   ],
   "source": [
    "# AND\n",
    "AND = signal.copy()\n",
    "AND[\"y\"] = signal.x1 & signal.x2\n",
    "AND"
   ]
  },
  {
   "cell_type": "code",
   "execution_count": 12,
   "metadata": {},
   "outputs": [],
   "source": [
    "def AND_gate(x1,x2):\n",
    "    w1,w2 = 0.5,0.5\n",
    "    theta = 0.7\n",
    "    tmp = w1*x1 + w2*x2\n",
    "    if tmp <= theta:\n",
    "        y = 0\n",
    "    else:\n",
    "        y = 1\n",
    "    return y"
   ]
  },
  {
   "cell_type": "code",
   "execution_count": 22,
   "metadata": {},
   "outputs": [
    {
     "name": "stdout",
     "output_type": "stream",
     "text": [
      "0\n",
      "0\n",
      "0\n",
      "1\n"
     ]
    }
   ],
   "source": [
    "print(AND_gate(0,0))\n",
    "print(AND_gate(1,0))\n",
    "print(AND_gate(0,1))\n",
    "print(AND_gate(1,1))"
   ]
  },
  {
   "cell_type": "code",
   "execution_count": 26,
   "metadata": {},
   "outputs": [
    {
     "name": "stdout",
     "output_type": "stream",
     "text": [
      "0\n",
      "0\n",
      "0\n",
      "1\n"
     ]
    }
   ],
   "source": [
    "def AND(x1,x2):\n",
    "    w1,w2 = 0.5,0.5\n",
    "    wn = -0.7\n",
    "    z = w1*x1 + w2*x2 + wn\n",
    "    if z <= 0:\n",
    "        y = 0\n",
    "    else:\n",
    "        y = 1\n",
    "    return y\n",
    " \n",
    "print(AND(0,0))\n",
    "print(AND(1,0))\n",
    "print(AND(0,1))\n",
    "print(AND(1,1))"
   ]
  },
  {
   "cell_type": "code",
   "execution_count": 51,
   "metadata": {},
   "outputs": [
    {
     "name": "stdout",
     "output_type": "stream",
     "text": [
      "init W = [3. 3. 3.]\n",
      "W = [-1.4  1.3  1.3]\n"
     ]
    }
   ],
   "source": [
    "import numpy as np\n",
    "\n",
    "#重み初期値\n",
    "w = np.array([3.0, 3.0, 3.0])\n",
    "\n",
    "#入力\n",
    "input_array = np.array([[1,0,0],[1,1,0],[1,0,1],[1,1,1]])\n",
    "\n",
    "#正解データ\n",
    "training_data = np.array([0,0,0,1])\n",
    "\n",
    "\n",
    "\n",
    "#パーセプトロンによるAND関数\n",
    "def AND(x):\n",
    "  temp = np.sum(x*w)\n",
    "  if temp <= 0:\n",
    "    return 0\n",
    "  else:\n",
    "    return 1\n",
    "\n",
    "#誤り訂正量の計算\n",
    "def w_update(w,y,i):\n",
    "  eta = 0.1\n",
    "  return eta*(training_data[i] - y)*input_array[i]\n",
    "\n",
    "i = 0\n",
    "zeros = 0\n",
    "\n",
    "print(\"init W = {0}\".format(w))\n",
    "\n",
    "\n",
    "#学習ループ\n",
    "while 1:\n",
    "  index = i%4\n",
    "\n",
    "  #AND関数の計算\n",
    "  y = AND(input_array[index])\n",
    "\n",
    "  #誤り訂正量の計算\n",
    "  dw = w_update(w,y,index)\n",
    "  w += dw\n",
    "\n",
    "  #途中計算の表示デフォルトではコメントアウト\n",
    "  #print(\"{5} : x = {3} : y = {0} : t = {1} : w = {2} : dw = {4}\".format(y,training_data[index],w,input_array[index],dw,i))\n",
    "\n",
    "  #重みの訂正量が4回続けて0の時学習を終了する\n",
    "  if (np.sum(dw) == 0):\n",
    "    zeros += 1\n",
    "  else:\n",
    "    zeros = 0\n",
    "  if (zeros >= 4):\n",
    "    break\n",
    "\n",
    "  i += 1\n",
    "\n",
    "#学習結果表示\n",
    "print(\"W = {0}\".format(w))"
   ]
  },
  {
   "cell_type": "code",
   "execution_count": null,
   "metadata": {},
   "outputs": [],
   "source": [
    "# プロット\n",
    "plt.figure(figsize=(8, 7))\n",
    "plt.scatter(X[:, 0], X[:, 1], marker='o', c=Y, s=25, edgecolor='k')\n",
    "\n",
    "line = np.linspace(-15, 15)\n",
    "plt.plot(line, -(line * coef[0] + intercept) / coef[1], c='g', label=\"Perceptron\")\n",
    "plt.ylim(-2.9, 3.4)\n",
    "plt.xlim(-2, 1.8)\n",
    "plt.legend()"
   ]
  },
  {
   "cell_type": "code",
   "execution_count": null,
   "metadata": {},
   "outputs": [],
   "source": []
  }
 ],
 "metadata": {
  "kernelspec": {
   "display_name": "Python 3",
   "language": "python",
   "name": "python3"
  },
  "language_info": {
   "codemirror_mode": {
    "name": "ipython",
    "version": 3
   },
   "file_extension": ".py",
   "mimetype": "text/x-python",
   "name": "python",
   "nbconvert_exporter": "python",
   "pygments_lexer": "ipython3",
   "version": "3.8.5"
  }
 },
 "nbformat": 4,
 "nbformat_minor": 5
}
